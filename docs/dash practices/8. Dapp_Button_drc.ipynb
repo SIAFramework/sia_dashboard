{
 "cells": [
  {
   "cell_type": "code",
   "execution_count": 1,
   "metadata": {},
   "outputs": [],
   "source": [
    "import dash\n",
    "import dash_html_components as html\n",
    "import dash_core_components as dcc\n",
    "from dash.dependencies import Input, Output, State\n",
    "import dash_bootstrap_components as dbc\n",
    "\n",
    "# https://dash-bootstrap-components.opensource.faculty.ai/l/components/button\n",
    "# https://dash-bootstrap-components.opensource.faculty.ai/l/components/input"
   ]
  },
  {
   "cell_type": "code",
   "execution_count": 2,
   "metadata": {},
   "outputs": [],
   "source": [
    "external_stylesheets = ['https://codepen.io/chriddyp/pen/bWLwgP.css']\n",
    "\n",
    "app = dash.Dash(__name__, external_stylesheets=external_stylesheets)\n",
    "app.layout = html.Div(\n",
    "    [\n",
    "#         dbc.Button(\"Click me\", id=\"example-button\", className=\"mr-2\", color = \"primary\"),\n",
    "        dbc.Button(\"Primary\", color=\"primary\", className=\"mr-2\", id = \"example-button\", block = True),\n",
    "        html.Div(id=\"example-output\", style={\"vertical-align\": \"middle\"}),\n",
    "    ]\n",
    ")"
   ]
  },
  {
   "cell_type": "code",
   "execution_count": 3,
   "metadata": {},
   "outputs": [],
   "source": [
    "@app.callback(\n",
    "    Output(\"example-output\", \"children\"), [Input(\"example-button\", \"n_clicks\")]\n",
    ")\n",
    "def on_button_click(n):\n",
    "    if n is None:\n",
    "        return \"Not clicked.\"\n",
    "    else:\n",
    "        return f\"Clicked {n} times.\""
   ]
  },
  {
   "cell_type": "code",
   "execution_count": 4,
   "metadata": {},
   "outputs": [
    {
     "name": "stdout",
     "output_type": "stream",
     "text": [
      " * Serving Flask app \"__main__\" (lazy loading)\n",
      " * Environment: production\n",
      "   WARNING: This is a development server. Do not use it in a production deployment.\n",
      "   Use a production WSGI server instead.\n",
      " * Debug mode: off\n"
     ]
    },
    {
     "name": "stderr",
     "output_type": "stream",
     "text": [
      " * Running on http://127.0.0.1:8050/ (Press CTRL+C to quit)\n",
      "127.0.0.1 - - [27/Jan/2020 19:59:46] \"GET / HTTP/1.1\" 200 -\n",
      "127.0.0.1 - - [27/Jan/2020 19:59:46] \"GET /_dash-layout HTTP/1.1\" 200 -\n",
      "127.0.0.1 - - [27/Jan/2020 19:59:47] \"GET /_dash-dependencies HTTP/1.1\" 200 -\n",
      "127.0.0.1 - - [27/Jan/2020 19:59:47] \"GET /_favicon.ico?v=1.8.0 HTTP/1.1\" 200 -\n",
      "127.0.0.1 - - [27/Jan/2020 19:59:47] \"POST /_dash-update-component HTTP/1.1\" 200 -\n",
      "127.0.0.1 - - [27/Jan/2020 19:59:49] \"POST /_dash-update-component HTTP/1.1\" 200 -\n",
      "127.0.0.1 - - [27/Jan/2020 19:59:49] \"POST /_dash-update-component HTTP/1.1\" 200 -\n",
      "127.0.0.1 - - [27/Jan/2020 20:05:14] \"POST /_dash-update-component HTTP/1.1\" 200 -\n",
      "127.0.0.1 - - [27/Jan/2020 20:07:02] \"GET / HTTP/1.1\" 200 -\n",
      "127.0.0.1 - - [27/Jan/2020 20:07:02] \"GET /_dash-layout HTTP/1.1\" 200 -\n",
      "127.0.0.1 - - [27/Jan/2020 20:07:02] \"GET /_dash-dependencies HTTP/1.1\" 200 -\n",
      "127.0.0.1 - - [27/Jan/2020 20:07:02] \"GET /_favicon.ico?v=1.8.0 HTTP/1.1\" 200 -\n",
      "127.0.0.1 - - [27/Jan/2020 20:07:02] \"POST /_dash-update-component HTTP/1.1\" 200 -\n",
      "127.0.0.1 - - [27/Jan/2020 20:07:13] \"GET / HTTP/1.1\" 200 -\n",
      "127.0.0.1 - - [27/Jan/2020 20:07:13] \"GET /_dash-layout HTTP/1.1\" 200 -\n",
      "127.0.0.1 - - [27/Jan/2020 20:07:14] \"GET /_dash-dependencies HTTP/1.1\" 200 -\n",
      "127.0.0.1 - - [27/Jan/2020 20:07:14] \"GET /_favicon.ico?v=1.8.0 HTTP/1.1\" 200 -\n",
      "127.0.0.1 - - [27/Jan/2020 20:07:14] \"POST /_dash-update-component HTTP/1.1\" 200 -\n",
      "127.0.0.1 - - [27/Jan/2020 20:07:24] \"GET / HTTP/1.1\" 200 -\n"
     ]
    }
   ],
   "source": [
    "if __name__ == '__main__':\n",
    "    app.run_server()"
   ]
  },
  {
   "cell_type": "code",
   "execution_count": null,
   "metadata": {},
   "outputs": [],
   "source": []
  }
 ],
 "metadata": {
  "kernelspec": {
   "display_name": "Python 3",
   "language": "python",
   "name": "python3"
  },
  "language_info": {
   "codemirror_mode": {
    "name": "ipython",
    "version": 3
   },
   "file_extension": ".py",
   "mimetype": "text/x-python",
   "name": "python",
   "nbconvert_exporter": "python",
   "pygments_lexer": "ipython3",
   "version": "3.7.3"
  }
 },
 "nbformat": 4,
 "nbformat_minor": 4
}
