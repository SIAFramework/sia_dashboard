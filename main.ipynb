{
 "cells": [
  {
   "cell_type": "code",
   "execution_count": 1,
   "metadata": {},
   "outputs": [],
   "source": [
    "import dash\n",
    "import dash_core_components as dcc\n",
    "import dash_html_components as html\n",
    "import dash_bootstrap_components as dbc\n",
    "from dash.dependencies import Input, Output, State\n",
    "import dash_daq as daq\n",
    "import dash_table\n",
    "\n",
    "import pandas as pd\n",
    "\n",
    "from scraper import amzscraper, fbscraper, twscraper"
   ]
  },
  {
   "cell_type": "code",
   "execution_count": 2,
   "metadata": {},
   "outputs": [],
   "source": [
    "external_stylesheets = ['htthtml//codepen.io/chriddyp/pen/bWLwgP.css']"
   ]
  },
  {
   "cell_type": "code",
   "execution_count": 3,
   "metadata": {},
   "outputs": [],
   "source": [
    "siaApp = dash.Dash(__name__, external_stylesheets=external_stylesheets)\n",
    "siaApp.config['suppress_callback_exceptions'] = True"
   ]
  },
  {
   "cell_type": "code",
   "execution_count": 4,
   "metadata": {},
   "outputs": [],
   "source": [
    "colors = {\n",
    "    'background': '#111111',\n",
    "    'text': '#7FDBFF'\n",
    "}"
   ]
  },
  {
   "cell_type": "code",
   "execution_count": 5,
   "metadata": {},
   "outputs": [],
   "source": [
    "tab_styles = {\n",
    "    'height': '44px'\n",
    "}\n",
    "\n",
    "tab_style = {\n",
    "    'borderBottom': '1px solid #d6d6d6',\n",
    "    'padding': '6px',\n",
    "    'fontWeight': 'bold'\n",
    "}\n",
    "\n",
    "tab_selected_style = {\n",
    "    'borderTop': '1px solid #d6d6d6',\n",
    "    'borderBottom': '1px solid #d6d6d6',\n",
    "    'backgroundColor': '#119DFF',\n",
    "    'color': 'white',\n",
    "    'padding': '6px'\n",
    "}"
   ]
  },
  {
   "cell_type": "code",
   "execution_count": 6,
   "metadata": {},
   "outputs": [],
   "source": [
    "siaApp.layout = html.Div(style = {'backgroundColor': colors['background']}, children = [\n",
    "    html.H1(children = 'Social Impact Analysis(SIA) Dashboard',\n",
    "           style = {'textAlign': 'center',\n",
    "                   'color': colors['text']}\n",
    "           ),\n",
    "    \n",
    "    html.Div(children = 'A Web Application Framework',\n",
    "            style = {'textAlign': 'center',\n",
    "                    'color': colors['text']}\n",
    "            ),\n",
    "    \n",
    "    dcc.Tabs(id = \"tabs-styled-with-inline\", value = 'scraper', children = [\n",
    "        dcc.Tab(label = 'Scraper', value = 'scraper', style = tab_style, selected_style = tab_selected_style, children = [\n",
    "            html.Label('Please select Platform from the Dropdown', style = {'color': colors['text']}),\n",
    "            html.Div([dcc.Dropdown(id = 'platform-input', options=[\n",
    "                {'label': 'Amazon', 'value': 'amazon'},\n",
    "                {'label': 'Facebook', 'value': 'facebook'},\n",
    "                {'label': 'Twitter', 'value': 'twitter'}],\n",
    "                                   value = 'amazon', style = {'color': colors['text']})]),\n",
    "            html.Br(),\n",
    "            \n",
    "            html.Label('Please enter the Keyword here', style = {'color': colors['text']}),\n",
    "            html.Div(dcc.Textarea(id = 'keyword-input', placeholder = 'Type here', style = {'width': '100%'})),\n",
    "            html.Br(),\n",
    "            \n",
    "            html.Label('Please enter No. of Pages here', style = {'color': colors['text']}),\n",
    "            html.Div(daq.NumericInput(id = 'pages-input', min = 1, max = 1000, value = 10, size = 120), \n",
    "                     style = {'color': colors['text']}),\n",
    "            html.Br(),\n",
    "            html.Div([dbc.Button('Submit', color = \"primary\", id = 'button', className = \"mr-1\", block = True),\n",
    "                      html.Span(id = \"button-output\", style={\"vertical-align\": \"middle\"}),\n",
    "                     ]),\n",
    "            html.Br(),\n",
    "            \n",
    "            html.Div(id = 'scraper-output', style = {'color': colors['text']})\n",
    "        ]),\n",
    "        dcc.Tab(label = 'Preprocessing', value = 'preprocessing', style = tab_style, selected_style = tab_selected_style),\n",
    "        dcc.Tab(label = 'Features Extraction', value = 'feature_extraction', style = tab_style, selected_style = tab_selected_style),\n",
    "        dcc.Tab(label = 'Clustering', value = 'clustering', style = tab_style, selected_style = tab_selected_style),\n",
    "        dcc.Tab(label = 'Visualization', value = 'visualization', style = tab_style, selected_style = tab_selected_style)\n",
    "    ], style = tab_styles),\n",
    "    html.Div(id = 'tabs-content-inline', style = {'color': colors['text']})\n",
    "])\n",
    "\n",
    "@siaApp.callback(Output('tabs-content-inline', 'children'),\n",
    "                [Input('tabs-styled-with-inline', 'value')])\n",
    "def render_content(tab):\n",
    "    if tab == 'scraper':\n",
    "        return html.Div([\n",
    "            html.H3('Platform Text'),\n",
    "            ])\n",
    "    elif tab == 'preprocessing':\n",
    "        return html.Div([\n",
    "            html.H3('Include Preprocessing here')\n",
    "        ])\n",
    "    elif tab == 'feature_extraction':\n",
    "        return html.Div([\n",
    "            html.H3('Include Feature Extraction here')\n",
    "        ])\n",
    "    elif tab == 'clustering':\n",
    "        return html.Div([\n",
    "            html.H3('Include Clustering here')\n",
    "        ])\n",
    "    elif tab == 'visualization':\n",
    "        return html.Div([\n",
    "            html.H3('Include Visualization here')\n",
    "        ])\n",
    "\n",
    "@siaApp.callback([Output('scraper-output', 'children'),Output('button-output', 'children')],\n",
    "                 [Input('button', 'n_clicks')],\n",
    "                 [State('platform-input', 'value'),State('keyword-input', 'value'), State('pages-input', 'value')])\n",
    "def update_output(n_clicks, platform, keyword, pages):\n",
    "    return 'The selected Platform is \"{}\" with keyword \"{}\" & No. of Pages are {}'.format(platform, keyword, pages), \\\n",
    "            'and the button has been clicked {} times'.format(n_clicks)"
   ]
  },
  {
   "cell_type": "code",
   "execution_count": 7,
   "metadata": {},
   "outputs": [
    {
     "name": "stdout",
     "output_type": "stream",
     "text": [
      " * Serving Flask app \"__main__\" (lazy loading)\n",
      " * Environment: production\n",
      "   WARNING: This is a development server. Do not use it in a production deployment.\n",
      "   Use a production WSGI server instead.\n",
      " * Debug mode: off\n"
     ]
    },
    {
     "name": "stderr",
     "output_type": "stream",
     "text": [
      " * Running on http://127.0.0.1:8050/ (Press CTRL+C to quit)\n",
      "127.0.0.1 - - [27/Jan/2020 20:56:26] \"GET / HTTP/1.1\" 200 -\n",
      "127.0.0.1 - - [27/Jan/2020 20:56:26] \"GET /htthtml//codepen.io/chriddyp/pen/bWLwgP.css HTTP/1.1\" 200 -\n",
      "127.0.0.1 - - [27/Jan/2020 20:56:26] \"GET /_dash-layout HTTP/1.1\" 200 -\n",
      "127.0.0.1 - - [27/Jan/2020 20:56:27] \"GET /_dash-dependencies HTTP/1.1\" 200 -\n",
      "127.0.0.1 - - [27/Jan/2020 20:56:27] \"GET /_favicon.ico?v=1.8.0 HTTP/1.1\" 200 -\n",
      "127.0.0.1 - - [27/Jan/2020 20:56:27] \"POST /_dash-update-component HTTP/1.1\" 200 -\n",
      "127.0.0.1 - - [27/Jan/2020 20:56:27] \"POST /_dash-update-component HTTP/1.1\" 200 -\n",
      "127.0.0.1 - - [27/Jan/2020 20:56:41] \"POST /_dash-update-component HTTP/1.1\" 200 -\n",
      "127.0.0.1 - - [27/Jan/2020 20:56:46] \"POST /_dash-update-component HTTP/1.1\" 200 -\n"
     ]
    }
   ],
   "source": [
    "if __name__ == '__main__':\n",
    "    siaApp.run_server()"
   ]
  }
 ],
 "metadata": {
  "kernelspec": {
   "display_name": "Python 3",
   "language": "python",
   "name": "python3"
  },
  "language_info": {
   "codemirror_mode": {
    "name": "ipython",
    "version": 3
   },
   "file_extension": ".py",
   "mimetype": "text/x-python",
   "name": "python",
   "nbconvert_exporter": "python",
   "pygments_lexer": "ipython3",
   "version": "3.7.3"
  }
 },
 "nbformat": 4,
 "nbformat_minor": 4
}
